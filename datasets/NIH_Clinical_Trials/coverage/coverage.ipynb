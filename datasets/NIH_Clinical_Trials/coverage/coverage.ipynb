{
 "cells": [
  {
   "cell_type": "markdown",
   "metadata": {},
   "source": [
    "# Coverage of NIH_Clinical_Trials data\n",
    "\n",
    "This notebook outlines preliminary findings of the coverage of NIH_Clinical_Trials data.\n",
    "\n",
    "## Geographic coverage\n",
    "Have a look at the map [here](https://clinicaltrials.gov/ct2/search/map)"
   ]
  },
  {
   "cell_type": "markdown",
   "metadata": {},
   "source": [
    "## Temporal coverage\n",
    "\n",
    "ClinicalTrials.gov states that they started [recording studies from 2000](https://clinicaltrials.gov/ct2/resources/trends#RegisteredStudiesOverTime)."
   ]
  },
  {
   "cell_type": "markdown",
   "metadata": {},
   "source": [
    "### Is the data:\n",
    "\n",
    "The data is updated regularly with a lag of a few days. As stated in the glossary, _There is typically a delay of a few days between the date the study sponsor or investigator submitted the study record and the first posted date._"
   ]
  },
  {
   "cell_type": "markdown",
   "metadata": {},
   "source": [
    "## Ecosystem coverage\n",
    "\n",
    "### List which ecosystems are covered by this dataset"
   ]
  },
  {
   "cell_type": "markdown",
   "metadata": {},
   "source": [
    "### To what extent could there be partial coverage or blindspots?\n",
    "\n",
    "Something to consider when using the data source is that _the submission of adverse event information was optional when the results database was first released but was required beginning in September 2009._ ([source](https://clinicaltrials.gov/ct2/about-site/results))"
   ]
  },
  {
   "cell_type": "code",
   "execution_count": null,
   "metadata": {},
   "outputs": [],
   "source": []
  }
 ],
 "metadata": {
  "kernelspec": {
   "display_name": "Python [conda env:py38] *",
   "language": "python",
   "name": "conda-env-py38-py"
  },
  "language_info": {
   "codemirror_mode": {
    "name": "ipython",
    "version": 3
   },
   "file_extension": ".py",
   "mimetype": "text/x-python",
   "name": "python",
   "nbconvert_exporter": "python",
   "pygments_lexer": "ipython3",
   "version": "3.8.2"
  }
 },
 "nbformat": 4,
 "nbformat_minor": 4
}
