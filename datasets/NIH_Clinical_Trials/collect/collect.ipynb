{
 "cells": [
  {
   "cell_type": "markdown",
   "metadata": {},
   "source": [
    "# Collect NIH_Clinical_Trials data\n",
    "\n",
    "This notebook outlines preliminary findings of collecting NIH_Clinical_Trials data.\n",
    "\n",
    "## Source of the data\n",
    "\n",
    "[ClinicalTrials.gov](https://clinicaltrials.gov/ct2/home) is a resource provided by the U.S. National Library of Medicine. It lists 352,516 research studies in all 50 states and in 216 countries."
   ]
  },
  {
   "cell_type": "markdown",
   "metadata": {},
   "source": [
    "## Collection options\n",
    "\n",
    "Here we show different options for collection, where applicable. Any prototype code used for data collection is provided in `collect.py`.\n",
    "\n",
    "### Option a) Data dump\n",
    "- Download up to 10,000 search results. Not very convenient if we need the whole database. If interested only in COVID-19, it works fine using this (recommended) query: https://clinicaltrials.gov/ct2/results?cond=COVID-19\n",
    "- Download content for all study records in JSON or XML: https://clinicaltrials.gov/api/gui/ref/download_all "
   ]
  },
  {
   "cell_type": "markdown",
   "metadata": {},
   "source": [
    "### Option b) Beta API\n",
    "\n",
    "https://clinicaltrials.gov/api/gui/home\n",
    "\n",
    "We can collect all of the _full studies_ by sliding the collection window using the `min_rnk` and `max_rnk` arguments."
   ]
  },
  {
   "cell_type": "code",
   "execution_count": 1,
   "metadata": {},
   "outputs": [],
   "source": [
    "import collect"
   ]
  },
  {
   "cell_type": "code",
   "execution_count": 2,
   "metadata": {},
   "outputs": [
    {
     "name": "stdout",
     "output_type": "stream",
     "text": [
      "CPU times: user 76.6 ms, sys: 16.5 ms, total: 93.2 ms\n",
      "Wall time: 1.45 s\n"
     ]
    }
   ],
   "source": [
    "%%time\n",
    "studies = collect.collect_full_studies(expr='', min_rnk=1, max_rnk=100, fmt='JSON')"
   ]
  },
  {
   "cell_type": "markdown",
   "metadata": {},
   "source": [
    "## Practical considerations\n",
    "This is where we consider CPU time, financial cost, disk space requirements, and last (but not least) development time/uncertainty.\n",
    "\n",
    "### CPU time\n",
    "#### Integrated collection time\n",
    "*This is an estimate of the time required to collect the data, without batching or parallelisation.*\n",
    "\n",
    "For option B (API), it takes ~1.5s / query (100 results). To collect all of the 352,516 studies, we would need to query the API 3526 times.\n",
    "\n",
    "3526 queries \\* 1.5s = 88.15minutes (an additional consideration should be the time to commit the data to a DB)."
   ]
  },
  {
   "cell_type": "markdown",
   "metadata": {},
   "source": [
    "#### Can the procedure be batched? Are there any caveats to this?\n",
    "Collecting the data without batching should work fine but the procedure can also be batched by modifying the `min_rnk` and `max_rnk` parameters."
   ]
  },
  {
   "cell_type": "markdown",
   "metadata": {},
   "source": [
    "#### Real world collection time / cost\n",
    "*Assume a maximum of 200 concurrent 8GB 2-core machines*\n",
    "\n",
    "*NB (at time of writing based on [this](https://aws.amazon.com/ec2/pricing/on-demand/)) such a machine would cost $0.0944 per hour*"
   ]
  },
  {
   "cell_type": "markdown",
   "metadata": {},
   "source": [
    "### Disk space (GB)\n",
    "\n",
    "#### By entity type, estimate how many \"rows\" there are to collect (e.g. 100s, 1000s, etc)\n",
    "\n",
    "10000s. At the time of writing, NIH CT has 352,516 rows. The whole JSON data dump is ~13GB."
   ]
  },
  {
   "cell_type": "markdown",
   "metadata": {},
   "source": [
    "#### By entity type, and based on the field types, what is the estimated disk space?"
   ]
  },
  {
   "cell_type": "markdown",
   "metadata": {},
   "source": [
    "#### What does this imply for database storage costs?\n",
    "Negligible."
   ]
  },
  {
   "cell_type": "markdown",
   "metadata": {},
   "source": [
    "### Development time\n",
    "*How long do you think it will take to develop the codebase for the collection?*\n",
    "*What uncertainties can you foresee?*\n",
    "\n",
    "Assuming we proceed with the API option, I would say a week."
   ]
  },
  {
   "cell_type": "code",
   "execution_count": null,
   "metadata": {},
   "outputs": [],
   "source": []
  }
 ],
 "metadata": {
  "kernelspec": {
   "display_name": "Python [conda env:py38] *",
   "language": "python",
   "name": "conda-env-py38-py"
  },
  "language_info": {
   "codemirror_mode": {
    "name": "ipython",
    "version": 3
   },
   "file_extension": ".py",
   "mimetype": "text/x-python",
   "name": "python",
   "nbconvert_exporter": "python",
   "pygments_lexer": "ipython3",
   "version": "3.8.2"
  }
 },
 "nbformat": 4,
 "nbformat_minor": 4
}
