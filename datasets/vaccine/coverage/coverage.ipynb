{
 "cells": [
  {
   "cell_type": "markdown",
   "metadata": {},
   "source": [
    "# Coverage of Vaccine data\n",
    "\n",
    "This notebook outlines preliminary findings of the coverage of the Elsevier journal \"Vaccine\".\n",
    "\n",
    "## Geographic coverage\n",
    "\n",
    "The geographic coverage is, in principle, global. Using collection method c) (i.e. with Microsoft Academic Graph), we will have institute level information, from which high quality geographic information can be obtained via GRID. Using options a) and c) do not easily provide geographic information associated with affiliations.\n",
    "\n",
    "I would however make assumptions that since the written language of the journal is English that, for example, some Asian research (perhaps in China) would be underrepresented here. Generally I would expect the geographic distribution of affiliations to be skewed towards Western institutes.\n",
    "\n",
    "From inspection, there are clearly examples of vaccine research relating to specific countries - and those could be different from the author affiliation. I think it would therefore be important to additionally extract country \"mentions\" in the text, which should be relatively straightforward."
   ]
  },
  {
   "cell_type": "markdown",
   "metadata": {},
   "source": [
    "## Temporal coverage\n",
    "\n",
    "There is consistent coverage from at least the year 2000 for this journal."
   ]
  },
  {
   "cell_type": "markdown",
   "metadata": {},
   "source": [
    "### Is the data:\n",
    "\n",
    "1. ~~Static (it will never change)~~\n",
    "\n",
    "2. **Updating (it will increase in size). If so, at what rate?**\n",
    "\n",
    "3. ~~Refreshing (old data will disappear). If so, at what rate and interval?~~\n",
    "\n",
    "The data updates at a rate of approximately 20 articles published per week."
   ]
  },
  {
   "cell_type": "markdown",
   "metadata": {},
   "source": [
    "## Ecosystem coverage\n",
    "\n",
    "### List which ecosystems are covered by this dataset"
   ]
  },
  {
   "cell_type": "markdown",
   "metadata": {},
   "source": [
    "According to Elsevier:\n",
    "\n",
    "> Vaccine is unique in publishing the highest quality science across all disciplines relevant to the field of vaccinology - all original article submissions across basic and clinical research, vaccine manufacturing, history, public policy, behavioral science and ethics, social sciences, safety, and many other related areas are welcomed.\n",
    "\n",
    "which implies that the ecosystem will be well covered.\n",
    "\n",
    "Data collection option a) also provides the possibility for data to be matched to Twitter tweets - which perhaps extends coverage of the data to non-scientific actors."
   ]
  },
  {
   "cell_type": "markdown",
   "metadata": {},
   "source": [
    "### To what extent could there be partial coverage, biases or blindspots? How might these be addressed?\n",
    "\n",
    "It could be important to build in measures of gender balance in authorships as a rudamentary measure of representativity of research. \n",
    "\n",
    "It is not clear *a priori* how lumpy the distribution of topics is, and how representative that is of social issues. It would be interesting to examine the associated Tweets from collection option a), as this might help highlight research of high social value.\n",
    "\n",
    "This is not open research, and as such it will be slightly laggier than open archives. Despite this, it should be higher quality than a given article on an open archive. One possibility would therefore to use open archives (e.g. bio/medrxiv) to \"now-cast\" the trends in Vaccine."
   ]
  }
 ],
 "metadata": {
  "kernelspec": {
   "display_name": "Python [default]",
   "language": "python",
   "name": "python3"
  },
  "language_info": {
   "codemirror_mode": {
    "name": "ipython",
    "version": 3
   },
   "file_extension": ".py",
   "mimetype": "text/x-python",
   "name": "python",
   "nbconvert_exporter": "python",
   "pygments_lexer": "ipython3",
   "version": "3.6.8"
  }
 },
 "nbformat": 4,
 "nbformat_minor": 2
}
