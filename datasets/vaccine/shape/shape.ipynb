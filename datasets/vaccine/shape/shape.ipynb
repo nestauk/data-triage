{
 "cells": [
  {
   "cell_type": "markdown",
   "metadata": {},
   "source": [
    "# Shape of Vaccine data\n",
    "\n",
    "This notebook describes describes the shape of the Vaccine data, including descriptions of entities and possible fields. This is not an assessment of data quality.\n",
    "\n",
    "## Core entities\n",
    "*e.g. one entity per expected SQL table*\n",
    "\n",
    "\n",
    "|       Entity name             | [Entity type](https://schema.org/docs/full.html) | Notes  |\n",
    "|:-----------------------------:|:-------------------------:|:-----------------------------------------------:|\n",
    "| article      | ScholarlyArticle          |              (for both option a) and c))                                   |\n",
    "\n",
    "\n",
    "\n",
    "### Fields for {{enter an entity name}\n",
    "*e.g. one field per expected table column*\n",
    "\n",
    "\n",
    "#### Option a) CrossRef + PlumX\n",
    "\n",
    "|       Entity property             | [Data type](https://schema.org/DataType) | Belongs to another [entity](https://schema.org/docs/full.html) | Notes  |\n",
    "| ----------------------------- |:-------------------------:|:-----------------:|:-------------------------------:|\n",
    "| abstract | text |    |   |\n",
    "| isPartOf --> PublicationIssue --> name | text | PublicationIssue  |   |\n",
    "| author --> name | text |  Person  |   |\n",
    "| dateCreated | datetime |  |  |\n",
    "| doi [sameAs] | text | URL |  |\n",
    "| identifier | text |  |  |\n",
    "| keywords | text |  | Keywords as attributed by the author |\n",
    "| title | text |  |  |\n",
    "| mentions --> this | Thing | Thing | Counts of external mentions, such as tweets |\n",
    "\n",
    "\n",
    "#### Option c) Microsoft Academic Graph\n",
    "\n",
    "|       Entity property             | [Data type](https://schema.org/DataType) | Belongs to another [entity](https://schema.org/docs/full.html) | Notes  |\n",
    "| ----------------------------- |:-------------------------:|:-----------------:|:-------------------------------:|\n",
    "| abstract | text |    |  Poorly formatted due to inverted abstract procedure |\n",
    "| isPartOf --> PublicationIssue --> name | text | PublicationIssue  |   |\n",
    "| author --> name | text |  Person  |   |\n",
    "| author --> affiliation --> name | text |  EducationalOrganization  |  |\n",
    "| citationCount | integer |  {dynamic property}  |  |\n",
    "| dateCreated | datetime |  |  |\n",
    "| dateModified | datetime |  |  |\n",
    "| doi [sameAs] | text | URL |  |\n",
    "| keywords | text |  | MAG fields of study |\n",
    "| identifier | text | |  |\n",
    "| title | text |  |  | "
   ]
  },
  {
   "cell_type": "code",
   "execution_count": null,
   "metadata": {},
   "outputs": [],
   "source": []
  }
 ],
 "metadata": {
  "kernelspec": {
   "display_name": "Python [default]",
   "language": "python",
   "name": "python3"
  },
  "language_info": {
   "codemirror_mode": {
    "name": "ipython",
    "version": 3
   },
   "file_extension": ".py",
   "mimetype": "text/x-python",
   "name": "python",
   "nbconvert_exporter": "python",
   "pygments_lexer": "ipython3",
   "version": "3.6.8"
  }
 },
 "nbformat": 4,
 "nbformat_minor": 2
}
