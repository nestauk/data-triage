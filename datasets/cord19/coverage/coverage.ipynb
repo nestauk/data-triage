{
 "cells": [
  {
   "cell_type": "markdown",
   "metadata": {},
   "source": [
    "# Coverage of cord19 data\n",
    "\n",
    "This notebook outlines preliminary findings of the coverage of cord19 data.\n",
    "\n",
    "Screenshots and other relevant images can be found under the `img/` directory, and can be displayed in this notebook using\n",
    "\n",
    "    ![title](img/picture.png)\n",
    "\n",
    "where applicable.\n",
    "\n",
    "## Geographic coverage\n",
    "CORD19 does not offer geographic coverage. We could merge the `metadata.csv` table with this [CORD19/MAG mapping](https://github.com/microsoft/mag-covid19-research-examples/blob/master/src/data/releases.md#cord-19-metadata-with-more-comprehensive-mag-id-mapping), fetch author affiliations and then geocode them.\n",
    "\n",
    "In principle, this should give us full geographic coverage of the covid-19 research.\n",
    "\n",
    "**Note**: `metadata.csv` has a `mag_id` field but it's mostly empty. We have to use the mapping I added a link to above."
   ]
  },
  {
   "cell_type": "markdown",
   "metadata": {},
   "source": [
    "## Temporal coverage\n",
    "CORD19 covers all COVID-19 and coronavirus-related research (this means pre-2020 research too)."
   ]
  },
  {
   "cell_type": "code",
   "execution_count": 1,
   "metadata": {},
   "outputs": [],
   "source": [
    "import pandas as pd"
   ]
  },
  {
   "cell_type": "code",
   "execution_count": 2,
   "metadata": {},
   "outputs": [
    {
     "name": "stderr",
     "output_type": "stream",
     "text": [
      "/opt/anaconda3/envs/py38/lib/python3.8/site-packages/IPython/core/interactiveshell.py:3062: DtypeWarning: Columns (1,4,5,6,13,14,15,16) have mixed types.Specify dtype option on import or set low_memory=False.\n",
      "  has_raised = await self.run_ast_nodes(code_ast.body, cell_name,\n"
     ]
    },
    {
     "data": {
      "text/plain": [
       "Index(['cord_uid', 'sha', 'source_x', 'title', 'doi', 'pmcid', 'pubmed_id',\n",
       "       'license', 'abstract', 'publish_time', 'authors', 'journal', 'mag_id',\n",
       "       'who_covidence_id', 'arxiv_id', 'pdf_json_files', 'pmc_json_files',\n",
       "       'url', 's2_id'],\n",
       "      dtype='object')"
      ]
     },
     "execution_count": 2,
     "metadata": {},
     "output_type": "execute_result"
    }
   ],
   "source": [
    "df = pd.read_csv('../collect/metadata.csv')\n",
    "df.columns"
   ]
  },
  {
   "cell_type": "code",
   "execution_count": 3,
   "metadata": {},
   "outputs": [
    {
     "data": {
      "text/plain": [
       "<matplotlib.axes._subplots.AxesSubplot at 0x117a3c160>"
      ]
     },
     "execution_count": 3,
     "metadata": {},
     "output_type": "execute_result"
    },
    {
     "data": {
      "image/png": "[encoded data removed]",
      "text/plain": [
       "<Figure size 1440x360 with 1 Axes>"
      ]
     },
     "metadata": {
      "needs_background": "light"
     },
     "output_type": "display_data"
    }
   ],
   "source": [
    "df['publication_year'] = df.publish_time.apply(lambda x: x[:4] if isinstance(x, str) else x)\n",
    "df = df.drop_duplicates('cord_uid')\n",
    "df.publication_year.value_counts().sort_index().plot(kind='bar', figsize=(20,5), title='Publication year')"
   ]
  },
  {
   "cell_type": "markdown",
   "metadata": {},
   "source": [
    "### Is the data:\n",
    "\n",
    "The data is updated daily. Older data dumps are still accessible."
   ]
  },
  {
   "cell_type": "code",
   "execution_count": null,
   "metadata": {},
   "outputs": [],
   "source": []
  },
  {
   "cell_type": "markdown",
   "metadata": {},
   "source": [
    "## Ecosystem coverage\n",
    "\n",
    "### List which ecosystems are covered by this dataset\n",
    "CORD19 covers:\n",
    "- PubMed's PMC open access corpus using this query (COVID-19 and coronavirus research)\n",
    "- Additional COVID-19 research articles from a corpus maintained by the WHO\n",
    "- bioRxiv and medRxiv pre-prints using the same query as PMC (COVID-19 and coronavirus research)\n",
    "\n",
    "This means that most of the COVID-19 related research is covered by it."
   ]
  },
  {
   "cell_type": "code",
   "execution_count": null,
   "metadata": {},
   "outputs": [],
   "source": []
  },
  {
   "cell_type": "markdown",
   "metadata": {},
   "source": [
    "### To what extent could there be partial coverage or blindspots?\n",
    "\n",
    "If we were to match MAG with CORD19 to get the author affiliations and geocode them, we would miss ~17% of the publications. It's also not clear if NIH documents are included in the collection (I assume they are not)."
   ]
  },
  {
   "cell_type": "code",
   "execution_count": null,
   "metadata": {},
   "outputs": [],
   "source": []
  }
 ],
 "metadata": {
  "kernelspec": {
   "display_name": "Python [conda env:py38] *",
   "language": "python",
   "name": "conda-env-py38-py"
  },
  "language_info": {
   "codemirror_mode": {
    "name": "ipython",
    "version": 3
   },
   "file_extension": ".py",
   "mimetype": "text/x-python",
   "name": "python",
   "nbconvert_exporter": "python",
   "pygments_lexer": "ipython3",
   "version": "3.8.2"
  }
 },
 "nbformat": 4,
 "nbformat_minor": 4
}
