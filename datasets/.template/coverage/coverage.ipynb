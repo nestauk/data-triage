{
 "cells": [
  {
   "cell_type": "markdown",
   "metadata": {},
   "source": [
    "# Coverage of {{template}} data\n",
    "\n",
    "This notebook outlines preliminary findings of the coverage of {{template}} data.\n",
    "\n",
    "Screenshots and other relevant images can be found under the `img/` directory, and can be displayed in this notebook using\n",
    "\n",
    "    ![title](img/picture.png)\n",
    "\n",
    "where applicable.\n",
    "\n",
    "## Geographic coverage"
   ]
  },
  {
   "cell_type": "code",
   "execution_count": null,
   "metadata": {},
   "outputs": [],
   "source": []
  },
  {
   "cell_type": "markdown",
   "metadata": {},
   "source": [
    "## Temporal coverage"
   ]
  },
  {
   "cell_type": "code",
   "execution_count": null,
   "metadata": {},
   "outputs": [],
   "source": []
  },
  {
   "cell_type": "markdown",
   "metadata": {},
   "source": [
    "### Is the data:\n",
    "\n",
    "1. Static (it will never change)\n",
    "\n",
    "2. Updating (it will increase in size). If so, at what rate?\n",
    "\n",
    "3. Refreshing (old data will disappear). If so, at what rate and interval?\n"
   ]
  },
  {
   "cell_type": "code",
   "execution_count": null,
   "metadata": {},
   "outputs": [],
   "source": []
  },
  {
   "cell_type": "markdown",
   "metadata": {},
   "source": [
    "## Ecosystem coverage\n",
    "\n",
    "### List which ecosystems are covered by this dataset"
   ]
  },
  {
   "cell_type": "code",
   "execution_count": null,
   "metadata": {},
   "outputs": [],
   "source": []
  },
  {
   "cell_type": "markdown",
   "metadata": {},
   "source": [
    "### To what extent could there be partial coverage or blindspots?"
   ]
  },
  {
   "cell_type": "code",
   "execution_count": null,
   "metadata": {},
   "outputs": [],
   "source": []
  }
 ],
 "metadata": {},
 "nbformat": 4,
 "nbformat_minor": 2
}
