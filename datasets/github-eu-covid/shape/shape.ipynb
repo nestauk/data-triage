{
 "cells": [
  {
   "cell_type": "markdown",
   "metadata": {},
   "source": [
    "# Shape of github-eu-covid data\n",
    "\n",
    "This notebook describes describes the shape of the github-eu-covid data, including descriptions of entities and possible fields. This is not an assessment of data quality.\n",
    "\n",
    "Screenshots and other relevant images can be found under the `img/` directory, and can be displayed in this notebook using\n",
    "\n",
    "    ![title](img/picture.png)\n",
    "\n",
    "where applicable.\n",
    "\n",
    "## Core entities\n",
    "*e.g. one entity per expected SQL table*\n",
    "\n",
    "\n",
    "|       Entity name             | [Entity type](https://schema.org/docs/full.html) | Notes  |\n",
    "|:-----------------------------:|:-------------------------:|:-----------------------------------------------:|\n",
    "| {{enter an entity name}}      | {{enter a type}}          |                                                 |\n",
    "| {{enter an entity name}}      | {{enter a type}}          |                                                 |\n",
    "\n",
    "\n",
    "\n",
    "### Fields for {{enter an entity name}\n",
    "*e.g. one field per expected table column*\n",
    "\n",
    "\n",
    "|       Fields name             | [Data type](https://schema.org/DataType) | Belongs to another [entity](https://schema.org/docs/full.html) | Notes  |\n",
    "| ----------------------------- |:-------------------------:|:-----------------:|:-------------------------------:|\n",
    "| {{enter a field name}}      | {{enter a type}}          |            |\n",
    "| {{enter a field name}}      | {{enter a type}}          |            |\n",
    "\n",
    "\n"
   ]
  }
 ],
 "metadata": {},
 "nbformat": 4,
 "nbformat_minor": 2
}
