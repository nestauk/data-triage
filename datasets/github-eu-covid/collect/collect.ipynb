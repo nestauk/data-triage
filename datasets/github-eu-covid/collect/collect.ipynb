{
 "cells": [
  {
   "cell_type": "markdown",
   "metadata": {},
   "source": [
    "# Collect github-eu-covid data\n",
    "\n",
    "This notebook outlines preliminary findings of collecting github-eu-covid data.\n",
    "\n",
    "Screenshots and other relevant images can be found under the `img/` directory, and can be displayed in this notebook using\n",
    "\n",
    "    ![title](img/picture.png)\n",
    "\n",
    "where applicable.\n",
    "\n",
    "## Source of the data"
   ]
  },
  {
   "cell_type": "code",
   "execution_count": null,
   "metadata": {},
   "outputs": [],
   "source": []
  },
  {
   "cell_type": "markdown",
   "metadata": {},
   "source": [
    "## Collection options\n",
    "\n",
    "Here we show different options for collection, where applicable. Any prototype code used for data collection is provided in `collect.py`.\n",
    "\n",
    "### Option a) "
   ]
  },
  {
   "cell_type": "code",
   "execution_count": null,
   "metadata": {},
   "outputs": [],
   "source": []
  },
  {
   "cell_type": "markdown",
   "metadata": {},
   "source": [
    "### Option b) [where applicable]"
   ]
  },
  {
   "cell_type": "code",
   "execution_count": null,
   "metadata": {},
   "outputs": [],
   "source": []
  },
  {
   "cell_type": "markdown",
   "metadata": {},
   "source": [
    "## Practical considerations\n",
    "This is where we consider CPU time, financial cost, disk space requirements, and last (but not least) development time/uncertainty.\n",
    "\n",
    "### CPU time\n",
    "#### Integrated collection time\n",
    "*This is an estimate of the time required to collect the data, without batching or parallelisation.*"
   ]
  },
  {
   "cell_type": "code",
   "execution_count": null,
   "metadata": {},
   "outputs": [],
   "source": []
  },
  {
   "cell_type": "markdown",
   "metadata": {},
   "source": [
    "#### Can the procedure be batched? Are there any caveats to this?"
   ]
  },
  {
   "cell_type": "code",
   "execution_count": null,
   "metadata": {},
   "outputs": [],
   "source": []
  },
  {
   "cell_type": "markdown",
   "metadata": {},
   "source": [
    "#### Real world collection time / cost\n",
    "*Assume a maximum of 200 concurrent 8GB 2-core machines*\n",
    "\n",
    "*NB (at time of writing based on [this](https://aws.amazon.com/ec2/pricing/on-demand/)) such a machine would cost $0.0944 per hour*"
   ]
  },
  {
   "cell_type": "code",
   "execution_count": null,
   "metadata": {},
   "outputs": [],
   "source": []
  },
  {
   "cell_type": "markdown",
   "metadata": {},
   "source": [
    "### Disk space (GB)\n",
    "\n",
    "#### By entity type, estimate how many \"rows\" there are to collect (e.g. 100s, 1000s, etc)"
   ]
  },
  {
   "cell_type": "code",
   "execution_count": null,
   "metadata": {},
   "outputs": [],
   "source": []
  },
  {
   "cell_type": "markdown",
   "metadata": {},
   "source": [
    "#### By entity type, and based on the field types, what is the estimated disk space?"
   ]
  },
  {
   "cell_type": "code",
   "execution_count": null,
   "metadata": {},
   "outputs": [],
   "source": []
  },
  {
   "cell_type": "markdown",
   "metadata": {},
   "source": [
    "#### What does this imply for database storage costs?"
   ]
  },
  {
   "cell_type": "code",
   "execution_count": null,
   "metadata": {},
   "outputs": [],
   "source": []
  },
  {
   "cell_type": "markdown",
   "metadata": {},
   "source": [
    "### Development time\n",
    "*How long do you think it will take to develop the codebase for the collection?*\n",
    "*What uncertainties can you foresee?*"
   ]
  },
  {
   "cell_type": "code",
   "execution_count": null,
   "metadata": {},
   "outputs": [],
   "source": []
  }
 ],
 "metadata": {},
 "nbformat": 4,
 "nbformat_minor": 2
}
