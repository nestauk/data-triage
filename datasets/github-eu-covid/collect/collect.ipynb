{
 "cells": [
  {
   "cell_type": "markdown",
   "metadata": {},
   "source": [
    "# Collect github-eu-covid data\n",
    "\n",
    "This notebook outlines preliminary findings of collecting github-eu-covid data.\n",
    "\n",
    "## Source of the data\n",
    "\n",
    "The GitHub REST API is used to extract repositories which have been manually tagged as being covid related."
   ]
  },
  {
   "cell_type": "markdown",
   "metadata": {},
   "source": [
    "## Collection options\n",
    "\n",
    "Here we show different options for collection, where applicable. Any prototype code used for data collection is provided in `collect.py`.\n",
    "\n",
    "### Option a) "
   ]
  },
  {
   "cell_type": "code",
   "execution_count": 1,
   "metadata": {},
   "outputs": [],
   "source": [
    "from collect import search  # See collect.py\n",
    "from collections import defaultdict\n",
    "import requests_cache\n",
    "requests_cache.install_cache('collect_cache', backend='sqlite')"
   ]
  },
  {
   "cell_type": "code",
   "execution_count": 2,
   "metadata": {},
   "outputs": [
    {
     "name": "stdout",
     "output_type": "stream",
     "text": [
      "Found 231 topics\n"
     ]
    }
   ],
   "source": [
    "topics = []\n",
    "for topic in ['sars-cov-2', 'covid', 'coronavirus', '2019-ncov']:\n",
    "    topics += [result['name'] for _, result in search(q=topic, endpoint='topics', \n",
    "                                                      created='>2020-01-01', repositories=':>1')]\n",
    "topics = set(topics)\n",
    "print('Found', len(topics), 'topics')\n",
    "\n",
    "results = defaultdict(list)\n",
    "totals = {}\n",
    "for t in topics:\n",
    "    for total, result in search(endpoint='repositories', topic=t):\n",
    "        totals[t] = total\n",
    "        results[t].append(result)\n",
    "        if len(results[t]) == 100:\n",
    "            break"
   ]
  },
  {
   "cell_type": "code",
   "execution_count": 3,
   "metadata": {},
   "outputs": [],
   "source": [
    "#contributers = [contributors_url --> COUNT, url --> LOCATION]\n",
    "#Other fields: contributer_count, countributer_locations, owner_location, topic_count_owner_repos\n",
    "# Will require (3 + 2*n_contribs_per_owner + n_repos_per_owner)*repos total calls"
   ]
  },
  {
   "cell_type": "code",
   "execution_count": 4,
   "metadata": {},
   "outputs": [
    {
     "data": {
      "text/plain": [
       "309"
      ]
     },
     "execution_count": 4,
     "metadata": {},
     "output_type": "execute_result"
    }
   ],
   "source": [
    "# Calculate the total number of API calls required to collect all repos\n",
    "sum(v // 100 if v > 100 else 1 for v in totals.values())"
   ]
  },
  {
   "cell_type": "code",
   "execution_count": 5,
   "metadata": {},
   "outputs": [],
   "source": [
    "import json\n",
    "with open('data_samples/repos_sample.json', 'w') as f:\n",
    "    json.dump(results, f)"
   ]
  },
  {
   "cell_type": "markdown",
   "metadata": {},
   "source": [
    "## Practical considerations\n",
    "This is where we consider CPU time, financial cost, disk space requirements, and last (but not least) development time/uncertainty.\n",
    "\n",
    "### CPU time\n",
    "#### Integrated collection time\n",
    "*This is an estimate of the time required to collect the data, without batching or parallelisation.*\n",
    "\n",
    "There are a total of 11696 repos associated with the covid topics. The repos are collected in chunks of roughly 100, though the tail of smaller topics is collected in smaller chunks. In total, there will be 309 API calls. The rate limit of 10 calls per minute therefore requisites 31 minutes for repo collection.\n",
    "\n",
    "To collect extended metadata:\n",
    "\n",
    "- Repo owner location\n",
    "- Repo contributor locations\n",
    "- Repo contributor count\n",
    "- Topic counts of owner's other repos\n",
    "\n",
    "Will require $(3 + 2*n_{\\text{contributor}} + n_{\\text{repos per owner}})*n_{\\text{repos}}$ total calls. Assuming $n_{\\text{contributor}}=3 , n_{\\text{repos per owner}}=5$, this will require 16000 minutes (11 days)."
   ]
  },
  {
   "cell_type": "markdown",
   "metadata": {},
   "source": [
    "#### Can the procedure be batched? Are there any caveats to this?\n",
    "\n",
    "The second part could certainly be batched."
   ]
  },
  {
   "cell_type": "markdown",
   "metadata": {},
   "source": [
    "#### Real world collection time / cost\n",
    "*Assume a maximum of 200 concurrent 8GB 2-core machines*\n",
    "\n",
    "*NB (at time of writing based on [this](https://aws.amazon.com/ec2/pricing/on-demand/)) such a machine would cost $0.0944 per hour*\n",
    "\n",
    "The total collection time with 200 concurrent machines would be less than 2 hours. The cost for this would be $37"
   ]
  },
  {
   "cell_type": "markdown",
   "metadata": {},
   "source": [
    "### Disk space (GB)\n",
    "\n",
    "#### By entity type, estimate how many \"rows\" there are to collect (e.g. 100s, 1000s, etc)\n",
    "\n",
    "10000s"
   ]
  },
  {
   "cell_type": "markdown",
   "metadata": {},
   "source": [
    "#### By entity type, and based on the field types, what is the estimated disk space?"
   ]
  },
  {
   "cell_type": "markdown",
   "metadata": {},
   "source": [
    "#### What does this imply for database storage costs?"
   ]
  },
  {
   "cell_type": "markdown",
   "metadata": {},
   "source": [
    "Negligible"
   ]
  },
  {
   "cell_type": "markdown",
   "metadata": {},
   "source": [
    "### Development time\n",
    "*How long do you think it will take to develop the codebase for the collection?*\n",
    "*What uncertainties can you foresee?*\n",
    "\n",
    "Unless extensions are required (e.g. in-depth analysis of the codebase), then development will likely take one week.\n",
    "\n",
    "There are uncertainties, since the collection will be batched it could be temperamental. The number of required collections could be significantly higher, but it is difficult to calculate this properly in advance."
   ]
  }
 ],
 "metadata": {
  "kernelspec": {
   "display_name": "Python [conda env:py36]",
   "language": "python",
   "name": "conda-env-py36-py"
  },
  "language_info": {
   "codemirror_mode": {
    "name": "ipython",
    "version": 3
   },
   "file_extension": ".py",
   "mimetype": "text/x-python",
   "name": "python",
   "nbconvert_exporter": "python",
   "pygments_lexer": "ipython3",
   "version": "3.6.8"
  }
 },
 "nbformat": 4,
 "nbformat_minor": 2
}
