{
 "cells": [
  {
   "cell_type": "markdown",
   "metadata": {},
   "source": [
    "# Coverage of github-eu-covid data\n",
    "\n",
    "This notebook outlines preliminary findings of the coverage of github-eu-covid data.\n",
    "\n",
    "## Geographic coverage"
   ]
  },
  {
   "cell_type": "markdown",
   "metadata": {},
   "source": [
    "Geographic coverage can be assessed in two broad ways:\n",
    "\n",
    "1. Location inferred from topics and description\n",
    "2. Location of owner and contributors\n",
    "\n",
    "which accordingly correspond to two research questions:\n",
    "\n",
    "1. What geography does the codebase aim to represent?\n",
    "2. What countries are contributing to this codebase?\n",
    "\n",
    "For various reasons, there could be no geographic information associated with a given repository. This could, for example, be due privacy settings, insufficient information, or that the codebase wasn't designed for any specific geography.\n",
    "\n",
    "It is found that from the 231 distinct covid-related topics, 150 indicate a specific country, of which 20 are EU (or closely affiliated) countries - meaning that 81 may have a more general or global coverage. This does not include countries mentioned in descriptions, or the affiliations of contributors (these require more in-depth analysis)."
   ]
  },
  {
   "cell_type": "code",
   "execution_count": 7,
   "metadata": {},
   "outputs": [],
   "source": [
    "import json\n",
    "with open(\"../collect/data_samples/repos_sample.json\") as f:\n",
    "    data = json.load(f)"
   ]
  },
  {
   "cell_type": "code",
   "execution_count": 35,
   "metadata": {},
   "outputs": [
    {
     "data": {
      "text/plain": [
       "['id',\n",
       " 'node_id',\n",
       " 'name',\n",
       " 'full_name',\n",
       " 'private',\n",
       " 'owner',\n",
       " 'html_url',\n",
       " 'description',\n",
       " 'fork',\n",
       " 'url',\n",
       " 'forks_url',\n",
       " 'keys_url',\n",
       " 'collaborators_url',\n",
       " 'teams_url',\n",
       " 'hooks_url',\n",
       " 'issue_events_url',\n",
       " 'events_url',\n",
       " 'assignees_url',\n",
       " 'branches_url',\n",
       " 'tags_url',\n",
       " 'blobs_url',\n",
       " 'git_tags_url',\n",
       " 'git_refs_url',\n",
       " 'trees_url',\n",
       " 'statuses_url',\n",
       " 'languages_url',\n",
       " 'stargazers_url',\n",
       " 'contributors_url',\n",
       " 'subscribers_url',\n",
       " 'subscription_url',\n",
       " 'commits_url',\n",
       " 'git_commits_url',\n",
       " 'comments_url',\n",
       " 'issue_comment_url',\n",
       " 'contents_url',\n",
       " 'compare_url',\n",
       " 'merges_url',\n",
       " 'archive_url',\n",
       " 'downloads_url',\n",
       " 'issues_url',\n",
       " 'pulls_url',\n",
       " 'milestones_url',\n",
       " 'notifications_url',\n",
       " 'labels_url',\n",
       " 'releases_url',\n",
       " 'deployments_url',\n",
       " 'created_at',\n",
       " 'updated_at',\n",
       " 'pushed_at',\n",
       " 'git_url',\n",
       " 'ssh_url',\n",
       " 'clone_url',\n",
       " 'svn_url',\n",
       " 'homepage',\n",
       " 'size',\n",
       " 'stargazers_count',\n",
       " 'watchers_count',\n",
       " 'language',\n",
       " 'has_issues',\n",
       " 'has_projects',\n",
       " 'has_downloads',\n",
       " 'has_wiki',\n",
       " 'has_pages',\n",
       " 'forks_count',\n",
       " 'mirror_url',\n",
       " 'archived',\n",
       " 'disabled',\n",
       " 'open_issues_count',\n",
       " 'license',\n",
       " 'topics',\n",
       " 'forks',\n",
       " 'open_issues',\n",
       " 'watchers',\n",
       " 'default_branch',\n",
       " 'score']"
      ]
     },
     "execution_count": 35,
     "metadata": {},
     "output_type": "execute_result"
    }
   ],
   "source": [
    "list(data['covid-19'][0].keys())"
   ]
  },
  {
   "cell_type": "code",
   "execution_count": 28,
   "metadata": {},
   "outputs": [],
   "source": [
    "import pandas as pd\n",
    "eu_codes = set(pd.read_csv(\"../collect/data_samples/iso3166_alpha2_codes.csv\")['ISO2'])\n",
    "df = pd.read_csv(\"../collect/data_samples/country_codes_names.csv\")\n",
    "df.columns = ['iso2', 'name_en', 'name_local', 'lang']\n",
    "df_eu = df.loc[df.iso2.apply(lambda x: x in eu_codes)]\n",
    "other_names = ['czechia']\n",
    "\n",
    "def ctry_list(df, other_names):\n",
    "    _ctry_list = list(df.iso2) + list(df.name_en) + list(df.name_local) + other_names\n",
    "    output = []\n",
    "    for ctry in _ctry_list:\n",
    "        if pd.isnull(ctry):\n",
    "            continue\n",
    "        output += ctry.lower().split(\",\")\n",
    "    return output"
   ]
  },
  {
   "cell_type": "code",
   "execution_count": 30,
   "metadata": {},
   "outputs": [
    {
     "name": "stdout",
     "output_type": "stream",
     "text": [
      "150\n",
      "20\n"
     ]
    }
   ],
   "source": [
    "import re\n",
    "def split_tag(tag):\n",
    "    return [x.lower() for x in re.split('[^a-zA-Z]', tag)]\n",
    "\n",
    "def print_n_countries(data, df, other_names):\n",
    "    _ctry_list = ctry_list(df, other_names)\n",
    "    n = sum(any(ctry in split_tag(tag) for ctry in _ctry_list)\n",
    "            for tag in data.keys())\n",
    "    print(n)\n",
    "    \n",
    "print_n_countries(data, df, other_names)\n",
    "print_n_countries(data, df_eu, other_names)"
   ]
  },
  {
   "cell_type": "markdown",
   "metadata": {},
   "source": [
    "## Temporal coverage"
   ]
  },
  {
   "cell_type": "markdown",
   "metadata": {},
   "source": [
    "### Is the data:\n",
    "\n",
    "~~1. Static (it will never change)~~\n",
    "\n",
    "2. Updating (it will increase in size). If so, at what rate?\n",
    "\n",
    "~~3. Refreshing (old data will disappear). If so, at what rate and interval?~~"
   ]
  },
  {
   "cell_type": "markdown",
   "metadata": {},
   "source": [
    "In the first month in which covid became a significant issue in Western nations (March 2020), [around 6000 repos were created with a covid tag](https://github.blog/2020-03-23-open-collaboration-on-covid-19/). This number has less than double in the subsequent 3 months, so I infer from this that the number of repositories is likely to plateau. This does not however mean that contributions have stopped, or that downloads have stopped.\n",
    "\n",
    "Even so, lack of new activity is nevertheless an up-to-date statistic - and so I would describe the data as having excellent temporal coverage from at least March 2020 onwards."
   ]
  },
  {
   "cell_type": "markdown",
   "metadata": {},
   "source": [
    "## Ecosystem coverage\n",
    "\n",
    "### List which ecosystems are covered by this dataset"
   ]
  },
  {
   "cell_type": "markdown",
   "metadata": {},
   "source": [
    "From inspection, repositories are broadly:\n",
    "\n",
    "* Data journalism\n",
    "* Epidemiological modelling\n",
    "* Epidemiological measurement\n",
    "* New technologies with applications to covid (e.g. tracing apps)\n"
   ]
  },
  {
   "cell_type": "markdown",
   "metadata": {},
   "source": [
    "### To what extent could there be partial coverage or blindspots?"
   ]
  },
  {
   "cell_type": "markdown",
   "metadata": {},
   "source": [
    "The data has unknown coverage of ethnic minorities and gender balance.\n",
    "\n",
    "It would be useful to have a counterfactual to fully understand the geographic and temporal coverage (perhaps a random selection of 10 x larger from general tags - note that this would cost an additional $400 or so)"
   ]
  }
 ],
 "metadata": {
  "kernelspec": {
   "display_name": "Python [conda env:py36]",
   "language": "python",
   "name": "conda-env-py36-py"
  },
  "language_info": {
   "codemirror_mode": {
    "name": "ipython",
    "version": 3
   },
   "file_extension": ".py",
   "mimetype": "text/x-python",
   "name": "python",
   "nbconvert_exporter": "python",
   "pygments_lexer": "ipython3",
   "version": "3.6.8"
  }
 },
 "nbformat": 4,
 "nbformat_minor": 2
}
